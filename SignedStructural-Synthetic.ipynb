{
 "cells": [
  {
   "cell_type": "code",
   "execution_count": null,
   "metadata": {},
   "outputs": [],
   "source": [
    "import networkx as nx\n",
    "import numpy as np\n",
    "from scipy import sparse\n",
    "import matplotlib.pyplot as plt\n",
    "plt.axis(\"off\")\n",
    "import os\n",
    "\n",
    "from analyze import *\n",
    "\n",
    "#if true, will show generated plots in the notebook\n",
    "#if false, will save to a folder called figs/synthetic-same (or -diff)\n",
    "show = True \n",
    "if show:\n",
    "    %matplotlib inline\n",
    "exp = \"diff\" #\"same\" \"diff\"\n",
    "dataset = \"synthetic-%s\" % exp\n",
    "plot_labels = False"
   ]
  },
  {
   "cell_type": "code",
   "execution_count": null,
   "metadata": {},
   "outputs": [],
   "source": [
    "#Graph: can't separate positive and negative components\n",
    "G = nx.DiGraph()\n",
    "if exp == \"diff\":\n",
    "    G.add_nodes_from(range(7))\n",
    "    G.add_edges_from([(0, 1, {'weight': 1}), (2, 3, {'weight': 1}), (2, 4, {'weight': 1})])#\\, (5, 6, {'weight': 1})])\n",
    "    G.add_edges_from([(0, 2, {'weight': -1})])#, (5, 7, {'weight': -1})])\n",
    "    G.add_edges_from([(5, 6, {'weight': 1}), (5, 7, {'weight': -1})])\n",
    "    focus_nodes = [0,5] #hand-engineered statistics or concatenated unsigned methods view as structurally equivalent, signed structural methods capture subtle difference\n",
    "elif exp == \"same\":\n",
    "    G.add_nodes_from(range(10))\n",
    "    G.add_edges_from([(0, 1, {'weight': -1}), (1, 2, {'weight': 1}), (1, 3, {'weight': 1})])\n",
    "    G.add_edges_from([(4, 5, {'weight': 1}), (5, 6, {'weight': -1}), (5, 7, {'weight': -1})])\n",
    "    G.add_edges_from([(8, 9, {'weight': 1})])\n",
    "    focus_nodes = [0,4,8,9,5]\n",
    "else:\n",
    "    G.add_nodes_from(range(11))\n",
    "    G.add_edges_from([(1, 2, {'weight': 1}), (1, 3, {'weight': 1})])\n",
    "    G.add_edges_from([(0, 1, {'weight': -1}), (4, 5, {'weight': -1}), (5, 6, {'weight': -1}), (5, 7, {'weight': -1})])\n",
    "    #G.add_edges_from([(8, 0, {'weight': -1}), (4, 9, {'weight': 1}), (2, 10, {'weight': -1})])\n",
    "    G.add_edges_from([(8, 0, {'weight': -1}), (10, 9, {'weight': -1}), (2, 10, {'weight': -1})])\n",
    "    focus_nodes = [0,4] #hand-engineered statistics or concatenated unsigned methods view as structurally equivalent, signed structural methods capture subtle difference"
   ]
  },
  {
   "cell_type": "code",
   "execution_count": null,
   "metadata": {},
   "outputs": [],
   "source": [
    "# #Draw the graph\n",
    "COLOR_HIGHLIGHT = \"#d7191c\" #med red\n",
    "COLOR_HIGHLIGHT2 = \"#fdae61\" #salmon\n",
    "COLOR_HIGHLIGHT3 = \"#f46d43\" #orange\n",
    "COLOR_REG = \"#2c7bb6\" #med blue\n",
    "COLOR_REG2 = \"#abd9e9\" #light blue\n",
    "\n",
    "node_colors = [COLOR_REG for u in G.nodes]\n",
    "node_colors[focus_nodes[0]] = COLOR_HIGHLIGHT\n",
    "node_colors[focus_nodes[1]] = COLOR_HIGHLIGHT2\n",
    "if exp == \"same\":\n",
    "    node_colors[focus_nodes[2]] = COLOR_REG2\n",
    "    #node_colors[focus_nodes[3]] = COLOR_REG2\n",
    "    node_colors[focus_nodes[4]] = COLOR_HIGHLIGHT3\n",
    "if exp not in [\"same\", \"diff\"]:\n",
    "    node_colors[8] = \"blue\"\n",
    "    node_colors[10] = \"purple\"\n",
    "    node_colors[2] = \"yellow\"\n",
    "\n",
    "pos = nx.circular_layout(G)\n",
    "# nodes\n",
    "nx.draw_networkx_nodes(G,pos,\n",
    "                       nodelist=G.nodes,\n",
    "                       node_color=node_colors,\n",
    "                       node_size=700)\n",
    "\n",
    "#node labels\n",
    "if plot_labels:\n",
    "    node_ids = range(G.number_of_nodes())\n",
    "    labels = dict(zip(node_ids, node_ids))\n",
    "    nx.draw_networkx_labels(G,pos,labels,font_size=16)\n",
    "#edges\n",
    "pos_edges = []\n",
    "neg_edges = []\n",
    "for u,v in G.edges():\n",
    "    if G[u][v][\"weight\"] >= 0: pos_edges.append( (u,v) )\n",
    "    else: neg_edges.append( (u,v) )\n",
    "print(pos_edges)\n",
    "print(neg_edges)\n",
    "\n",
    "#positive edges\n",
    "nx.draw_networkx_edges(G,pos,\n",
    "                       edgelist=pos_edges,\n",
    "                       width=1.0,style=\"solid\",arrows=True,arrowstyle='->',arrowsize = 40)#,edge_color='blue')\n",
    "#negative edges\n",
    "nx.draw_networkx_edges(G,pos,\n",
    "                       edgelist=neg_edges,\n",
    "                       style=\"dotted\",\n",
    "                       arrows=True,\n",
    "                       arrowstyle='->',\n",
    "                       arrowsize=40,\n",
    "                       edge_color='purple')\n",
    "\n",
    "#edge labels\n",
    "edge_labels = {}\n",
    "for u,v in G.edges:\n",
    "    if G[u][v][\"weight\"] >= 0: label = \"+\"\n",
    "    else: label = \"-\"\n",
    "    edge_labels[(u,v)] = label\n",
    "nx.draw_networkx_edge_labels(G,pos,edge_labels = edge_labels, font_size=12)#, clip_on = False)\n",
    "\n",
    "if show:\n",
    "    plt.show()\n",
    "else:\n",
    "    if not os.path.exists(\"figs/%s\" % dataset): os.system(\"mkdir figs/%s\" % dataset)\n",
    "    plt.savefig(\"figs/%s/graph.png\" % dataset)"
   ]
  },
  {
   "cell_type": "code",
   "execution_count": null,
   "metadata": {},
   "outputs": [],
   "source": [
    "#Embed the graph using sNCE\n",
    "embed_method = \"snce\" #\n",
    "signed_xnetmf_emb = embed_data(nx.adjacency_matrix(G), method = embed_method, dim = 4)\n",
    "viz_embed(signed_xnetmf_emb, method = embed_method, colors = node_colors, viz_list = focus_nodes, dataset = dataset, show = show, subsample = False)"
   ]
  },
  {
   "cell_type": "code",
   "execution_count": null,
   "metadata": {},
   "outputs": [],
   "source": [
    "#Embed the graph using sRDE\n",
    "embed_method = \"srde\"\n",
    "signed_emb = embed_data(nx.adjacency_matrix(G), method = embed_method, dim = 4)\n",
    "viz_embed(signed_emb, method = embed_method, colors = node_colors, viz_list = focus_nodes, dataset = dataset, show = show, subsample = False)"
   ]
  },
  {
   "cell_type": "code",
   "execution_count": null,
   "metadata": {},
   "outputs": [],
   "source": [
    "#Degree features of graph\n",
    "deg_feat = signed_network_features(nx.adjacency_matrix(G), method = \"degrees\")\n",
    "viz_embed(deg_feat, method = \"degrees\", colors = node_colors, viz_list = focus_nodes, show = show, dataset = dataset, subsample = False)"
   ]
  },
  {
   "cell_type": "code",
   "execution_count": null,
   "metadata": {},
   "outputs": [],
   "source": [
    "#Concatenate xNetMF for separate signs\n",
    "embed_method = \"sec-xnetmf\"\n",
    "concat_xnetmf_emb = signed_network_features(nx.adjacency_matrix(G), method = embed_method, dim = 8) #was 4\n",
    "viz_embed(concat_xnetmf_emb, method = embed_method, colors = node_colors, viz_list = focus_nodes, show = show, dataset = dataset, subsample = False)"
   ]
  },
  {
   "cell_type": "code",
   "execution_count": null,
   "metadata": {},
   "outputs": [],
   "source": []
  }
 ],
 "metadata": {
  "kernelspec": {
   "display_name": "Python 3",
   "language": "python",
   "name": "python3"
  },
  "language_info": {
   "codemirror_mode": {
    "name": "ipython",
    "version": 3
   },
   "file_extension": ".py",
   "mimetype": "text/x-python",
   "name": "python",
   "nbconvert_exporter": "python",
   "pygments_lexer": "ipython3",
   "version": "3.8.5"
  }
 },
 "nbformat": 4,
 "nbformat_minor": 2
}
